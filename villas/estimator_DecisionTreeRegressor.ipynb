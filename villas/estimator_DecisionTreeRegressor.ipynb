{
 "metadata": {
  "name": "",
  "signature": "sha256:394b89178c3ae18841116c49dec05d7e8af286bd9d66a25ece222a888f1a82db"
 },
 "nbformat": 3,
 "nbformat_minor": 0,
 "worksheets": [
  {
   "cells": [
    {
     "cell_type": "code",
     "collapsed": false,
     "input": [
      "import datetime\n",
      "import numpy as np\n",
      "import pandas as pd\n",
      "import itertools\n",
      "import matplotlib.pyplot as plt\n",
      "\n",
      "from sklearn.ensemble import ExtraTreesRegressor\n",
      "from sklearn.grid_search import GridSearchCV\n",
      "\n",
      "def RMSE(a,b):\n",
      "    return np.sqrt(((a-b)**2).mean())\n",
      "\n",
      "def fixNegatives(vector):\n",
      "    for i in range(len(vector)):\n",
      "        if vector[i]<0:\n",
      "            vector[i]=0\n",
      "    pass\n",
      "\n",
      "%matplotlib inline\n",
      "\n",
      "datasets = \"../datasets/\"\n",
      "train_data = pd.read_csv(datasets+\"super_train.csv\",sep=',',parse_dates=True,index_col='datetime')\n",
      "test_data = pd.read_csv(datasets+\"super_test.csv\",sep=',',parse_dates=True,index_col='datetime')"
     ],
     "language": "python",
     "metadata": {},
     "outputs": [],
     "prompt_number": 1
    },
    {
     "cell_type": "heading",
     "level": 1,
     "metadata": {},
     "source": [
      "Treinamento em escala logar\u00edtmica"
     ]
    },
    {
     "cell_type": "heading",
     "level": 3,
     "metadata": {},
     "source": [
      "Preparando treinamento"
     ]
    },
    {
     "cell_type": "code",
     "collapsed": false,
     "input": [
      "notfeature=['casual','registered','count']\n",
      "features = [L for L in train_data.columns if L not in notfeature]\n",
      "trainday = 13\n",
      "\n",
      "X_train = train_data[features][train_data.index.day<trainday].values\n",
      "ylog_train_casual = np.log(train_data['casual'][train_data.index.day<trainday].values +1)\n",
      "ylog_train_registered = np.log(train_data['registered'][train_data.index.day<trainday].values +1)\n",
      "\n",
      "X_test = train_data[features][train_data.index.day>=trainday].values\n",
      "ylog_test_casual = np.log(train_data['casual'][train_data.index.day>=trainday].values +1)\n",
      "ylog_test_registered = np.log(train_data['registered'][train_data.index.day>=trainday].values +1)\n",
      "\n",
      "y_test_count = train_data['count'][train_data.index.day>=trainday].values\n"
     ],
     "language": "python",
     "metadata": {},
     "outputs": [],
     "prompt_number": 2
    },
    {
     "cell_type": "heading",
     "level": 1,
     "metadata": {},
     "source": [
      "Grid Search"
     ]
    },
    {
     "cell_type": "code",
     "collapsed": false,
     "input": [
      "param_grid = {'max_depth': [2, 4, 6],\n",
      "              'min_samples_leaf': [3, 5, 9, 17],\n",
      "              'max_features': [1.0, 0.5, 0.3]\n",
      "              }\n",
      "est = ExtraTreesRegressor(n_estimators=1000)"
     ],
     "language": "python",
     "metadata": {},
     "outputs": [],
     "prompt_number": 3
    },
    {
     "cell_type": "code",
     "collapsed": false,
     "input": [
      "gs_cv = GridSearchCV(est, param_grid, n_jobs=1, verbose=1).fit(X_train, ylog_train_casual)\n",
      "gs_cv.best_params_"
     ],
     "language": "python",
     "metadata": {},
     "outputs": [
      {
       "output_type": "stream",
       "stream": "stderr",
       "text": [
        "[Parallel(n_jobs=1)]: Done   1 jobs       | elapsed:    4.5s\n",
        "[Parallel(n_jobs=1)]: Done  50 jobs       | elapsed:  4.2min\n"
       ]
      },
      {
       "output_type": "stream",
       "stream": "stdout",
       "text": [
        "Fitting 3 folds for each of 36 candidates, totalling 108 fits\n"
       ]
      },
      {
       "output_type": "stream",
       "stream": "stderr",
       "text": [
        "[Parallel(n_jobs=1)]: Done 108 out of 108 | elapsed: 10.9min finished\n"
       ]
      },
      {
       "metadata": {},
       "output_type": "pyout",
       "prompt_number": 4,
       "text": [
        "{'max_depth': 6, 'max_features': 1.0, 'min_samples_leaf': 3}"
       ]
      }
     ],
     "prompt_number": 4
    },
    {
     "cell_type": "code",
     "collapsed": false,
     "input": [
      "gs_cv = GridSearchCV(est, param_grid, n_jobs=1, verbose=1).fit(X_train, ylog_train_registered)\n",
      "gs_cv.best_params_"
     ],
     "language": "python",
     "metadata": {},
     "outputs": [
      {
       "output_type": "stream",
       "stream": "stderr",
       "text": [
        "[Parallel(n_jobs=1)]: Done   1 jobs       | elapsed:    5.1s\n",
        "[Parallel(n_jobs=1)]: Done  50 jobs       | elapsed:  3.9min\n"
       ]
      },
      {
       "output_type": "stream",
       "stream": "stdout",
       "text": [
        "Fitting 3 folds for each of 36 candidates, totalling 108 fits\n"
       ]
      },
      {
       "output_type": "stream",
       "stream": "stderr",
       "text": [
        "[Parallel(n_jobs=1)]: Done 108 out of 108 | elapsed: 10.2min finished\n"
       ]
      },
      {
       "metadata": {},
       "output_type": "pyout",
       "prompt_number": 5,
       "text": [
        "{'max_depth': 6, 'max_features': 1.0, 'min_samples_leaf': 3}"
       ]
      }
     ],
     "prompt_number": 5
    },
    {
     "cell_type": "code",
     "collapsed": false,
     "input": [
      "c2 = {'n_estimators':1000,'max_depth': 6, 'max_features': 1.0, 'min_samples_leaf': 3}\n",
      "\n",
      "gbrlog_casual = ExtraTreesRegressor(**c2)\n",
      "gbrlog_casual.fit(X_train,ylog_train_casual)\n",
      "ylog_pred_casual = gbrlog_casual.predict(X_test)\n",
      "fixNegatives(ylog_pred_casual)\n",
      "\n",
      "print \"ERROR %f\" % RMSE(ylog_test_casual,ylog_pred_casual)"
     ],
     "language": "python",
     "metadata": {},
     "outputs": [
      {
       "output_type": "stream",
       "stream": "stdout",
       "text": [
        "ERROR 0.621160\n"
       ]
      }
     ],
     "prompt_number": 7
    },
    {
     "cell_type": "code",
     "collapsed": false,
     "input": [
      "r2 = {'n_estimators':1000,'max_depth': 6, 'max_features': 1.0, 'min_samples_leaf': 3}\n",
      "\n",
      "gbrlog_registered = ExtraTreesRegressor(**r2)\n",
      "gbrlog_registered.fit(X_train,ylog_train_registered)\n",
      "ylog_pred_registered = gbrlog_registered.predict(X_test)\n",
      "fixNegatives(ylog_pred_registered)\n",
      "\n",
      "print \"ERROR %f\" % RMSE(ylog_test_registered,ylog_pred_registered)"
     ],
     "language": "python",
     "metadata": {},
     "outputs": [
      {
       "output_type": "stream",
       "stream": "stdout",
       "text": [
        "ERROR 0.476340\n"
       ]
      }
     ],
     "prompt_number": 9
    },
    {
     "cell_type": "heading",
     "level": 1,
     "metadata": {},
     "source": [
      "Treinamento com PCA"
     ]
    },
    {
     "cell_type": "markdown",
     "metadata": {},
     "source": [
      "N\u00e3o fiz ainda, nem acho que vai dar certo"
     ]
    },
    {
     "cell_type": "markdown",
     "metadata": {},
     "source": [
      "_____________________\n",
      "_____________________\n",
      "_____________________\n",
      "_____________________\n",
      "_____________________\n",
      "_____________________"
     ]
    }
   ],
   "metadata": {}
  }
 ]
}