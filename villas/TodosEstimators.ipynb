{
 "metadata": {
  "name": "",
  "signature": "sha256:3464ed549a6fa86de3cda6eb51cda4a41f2bc2e3a7663954a9fbc51bf076ea74"
 },
 "nbformat": 3,
 "nbformat_minor": 0,
 "worksheets": [
  {
   "cells": [
    {
     "cell_type": "code",
     "collapsed": false,
     "input": [
      "import datetime\n",
      "import numpy as np\n",
      "import pandas as pd\n",
      "import itertools\n",
      "import matplotlib.pyplot as plt\n",
      "\n",
      "def fixNegatives(vector):\n",
      "    for i in range(len(vector)):\n",
      "        if vector[i]<0:\n",
      "            vector[i]=0\n",
      "    pass\n",
      "\n",
      "%matplotlib inline\n",
      "\n",
      "datasets = \"../datasets/\"\n",
      "train_data = pd.read_csv(datasets+\"super_train.csv\",sep=',',parse_dates=True,index_col='datetime')\n",
      "\n",
      "plot_all = False"
     ],
     "language": "python",
     "metadata": {},
     "outputs": [],
     "prompt_number": 78
    },
    {
     "cell_type": "code",
     "collapsed": false,
     "input": [
      "def factorize(df,col):\n",
      "    factors = pd.get_dummies(df[col],prefix=(col+\"_\"))\n",
      "    df = train_data.join(factors)\n",
      "    df.drop(col, axis=1, inplace=True)\n",
      "    \n",
      "#factorize(train_data,'season')\n",
      "#factorize(train_data,'weather')\n",
      "#factorize(train_data,'weekday')\n",
      "#factorize(train_data,'year')\n",
      "#factorize(train_data,'month')\n",
      "#factorize(train_data,'day')\n",
      "#factorize(train_data,'hour')"
     ],
     "language": "python",
     "metadata": {},
     "outputs": [],
     "prompt_number": 79
    },
    {
     "cell_type": "heading",
     "level": 1,
     "metadata": {},
     "source": [
      "Training"
     ]
    },
    {
     "cell_type": "code",
     "collapsed": false,
     "input": [
      "notfeature=['casual','registered','count']\n",
      "features = [L for L in train_data.columns if L not in notfeature]\n",
      "trainday = 15\n",
      "\n",
      "X_train = train_data[features][train_data.index.day<trainday].values\n",
      "ylog_train_casual = np.log(train_data['casual'][train_data.index.day<trainday].values +1)\n",
      "ylog_train_registered = np.log(train_data['registered'][train_data.index.day<trainday].values +1)\n",
      "\n",
      "X_test = train_data[features][train_data.index.day>=trainday].values\n",
      "ylog_test_casual = np.log(train_data['casual'][train_data.index.day>=trainday].values +1)\n",
      "ylog_test_registered = np.log(train_data['registered'][train_data.index.day>=trainday].values +1)\n",
      "\n",
      "y_test_count = train_data['count'][train_data.index.day>=trainday].values"
     ],
     "language": "python",
     "metadata": {},
     "outputs": [],
     "prompt_number": 80
    },
    {
     "cell_type": "code",
     "collapsed": false,
     "input": [
      "def testModel(model,setup={}):\n",
      "    print model.__class__.__name__,setup\n",
      "    model_casual = model(**setup).fit(X_train,ylog_train_casual)\n",
      "    ylog_pred_casual = model_casual.predict(X_test)\n",
      "    fixNegatives(ylog_pred_casual)\n",
      "    print \"CASUAL RMSLE: {}\".format(np.sqrt(((ylog_test_casual-ylog_pred_casual)**2).mean()))\n",
      "\n",
      "    model_registered = model(**setup).fit(X_train,ylog_train_registered)\n",
      "    ylog_pred_registered = model_registered.predict(X_test)\n",
      "    fixNegatives(ylog_pred_registered)\n",
      "    print \"REGISTERED RMSLE: {}\".format(np.sqrt(((ylog_test_registered-ylog_pred_registered)**2).mean()))\n",
      "\n",
      "    y_pred_count = np.array(np.exp(ylog_pred_casual)-1)+np.array(np.exp(ylog_pred_registered)-1)\n",
      "    \n",
      "    rmsle = np.sqrt((( np.log(y_test_count+1)-np.log(y_pred_count+1) )**2).mean())\n",
      "    print \"TOTAL RMSLE: {}\".format(rmsle)\n",
      "    return rmsle"
     ],
     "language": "python",
     "metadata": {},
     "outputs": [],
     "prompt_number": 81
    },
    {
     "cell_type": "heading",
     "level": 1,
     "metadata": {},
     "source": [
      "Cross Validation"
     ]
    },
    {
     "cell_type": "code",
     "collapsed": false,
     "input": [
      "from sklearn.learning_curve import learning_curve\n",
      "\n",
      "X = train_data[features].values\n",
      "ylog_casual = np.log(train_data['casual'].values +1)\n",
      "ylog_registered = np.log(train_data['registered'].values +1)"
     ],
     "language": "python",
     "metadata": {},
     "outputs": [],
     "prompt_number": 82
    },
    {
     "cell_type": "code",
     "collapsed": false,
     "input": [
      "def LearningCurve(model,X,y):\n",
      "    plt.figure()\n",
      "    plt.xlabel(\"Training examples\")\n",
      "    plt.ylabel(\"Score\")\n",
      "    train_sizes, train_scores, test_scores = learning_curve(model, X, y)\n",
      "    train_scores_mean = np.mean(train_scores, axis=1)\n",
      "    train_scores_std = np.std(train_scores, axis=1)\n",
      "    test_scores_mean = np.mean(test_scores, axis=1)\n",
      "    test_scores_std = np.std(test_scores, axis=1)\n",
      "    plt.grid()\n",
      "    plt.fill_between(train_sizes, train_scores_mean - train_scores_std, \n",
      "                     train_scores_mean + train_scores_std, alpha=0.1,color=\"r\")\n",
      "    plt.fill_between(train_sizes, test_scores_mean - test_scores_std,\n",
      "                     test_scores_mean + test_scores_std, alpha=0.1, color=\"g\")\n",
      "    plt.plot(train_sizes, train_scores_mean, 'o-', color=\"r\",label=\"Training score\")\n",
      "    plt.plot(train_sizes, test_scores_mean, 'o-', color=\"g\",label=\"Cross-validation score\")\n",
      "\n",
      "    plt.legend(loc=\"best\")\n",
      "    return plt\n",
      "\n",
      "def plotModel(model,setup={}):\n",
      "    c = model(**setup)\n",
      "    LearningCurve(c,X,ylog_casual)\n",
      "    r = model(**setup)\n",
      "    LearningCurve(r,X,ylog_registered)"
     ],
     "language": "python",
     "metadata": {},
     "outputs": [],
     "prompt_number": 83
    },
    {
     "cell_type": "heading",
     "level": 1,
     "metadata": {},
     "source": [
      "Look Estimator"
     ]
    },
    {
     "cell_type": "code",
     "collapsed": false,
     "input": [
      "def go(model,setup={}):\n",
      "    if plot_all:\n",
      "        plotModel(model,setup)\n",
      "    testModel(model,setup)"
     ],
     "language": "python",
     "metadata": {},
     "outputs": [],
     "prompt_number": 84
    },
    {
     "cell_type": "heading",
     "level": 1,
     "metadata": {},
     "source": [
      "Dummy"
     ]
    },
    {
     "cell_type": "code",
     "collapsed": false,
     "input": [
      "from sklearn.dummy import DummyRegressor\n",
      "\n",
      "go(DummyRegressor)"
     ],
     "language": "python",
     "metadata": {},
     "outputs": [
      {
       "output_type": "stream",
       "stream": "stdout",
       "text": [
        "type {}\n",
        "CASUAL RMSLE: 1.46278296645\n",
        "REGISTERED RMSLE: 1.38321707682\n",
        "TOTAL RMSLE: 1.39845739122\n"
       ]
      }
     ],
     "prompt_number": 85
    },
    {
     "cell_type": "heading",
     "level": 1,
     "metadata": {},
     "source": [
      "Emsemble Methods"
     ]
    },
    {
     "cell_type": "code",
     "collapsed": false,
     "input": [
      "from sklearn.ensemble import AdaBoostRegressor\n",
      "\n",
      "go(AdaBoostRegressor)"
     ],
     "language": "python",
     "metadata": {},
     "outputs": [
      {
       "output_type": "stream",
       "stream": "stdout",
       "text": [
        "ABCMeta {}\n",
        "CASUAL RMSLE: 0.754292378804"
       ]
      },
      {
       "output_type": "stream",
       "stream": "stdout",
       "text": [
        "\n",
        "REGISTERED RMSLE: 0.660668298713"
       ]
      },
      {
       "output_type": "stream",
       "stream": "stdout",
       "text": [
        "\n",
        "TOTAL RMSLE: 0.654640407865\n"
       ]
      }
     ],
     "prompt_number": 86
    },
    {
     "cell_type": "code",
     "collapsed": false,
     "input": [
      "from sklearn.ensemble import BaggingRegressor\n",
      "\n",
      "go(BaggingRegressor)"
     ],
     "language": "python",
     "metadata": {},
     "outputs": [
      {
       "output_type": "stream",
       "stream": "stdout",
       "text": [
        "ABCMeta {}\n",
        "CASUAL RMSLE: 0.572235951646"
       ]
      },
      {
       "output_type": "stream",
       "stream": "stdout",
       "text": [
        "\n",
        "REGISTERED RMSLE: 0.327309575854"
       ]
      },
      {
       "output_type": "stream",
       "stream": "stdout",
       "text": [
        "\n",
        "TOTAL RMSLE: 0.335024019262\n"
       ]
      }
     ],
     "prompt_number": 87
    },
    {
     "cell_type": "code",
     "collapsed": false,
     "input": [
      "from sklearn.ensemble import ExtraTreesRegressor\n",
      "\n",
      "go(ExtraTreesRegressor)"
     ],
     "language": "python",
     "metadata": {},
     "outputs": [
      {
       "output_type": "stream",
       "stream": "stdout",
       "text": [
        "ABCMeta {}\n",
        "CASUAL RMSLE: 0.575244038305"
       ]
      },
      {
       "output_type": "stream",
       "stream": "stdout",
       "text": [
        "\n",
        "REGISTERED RMSLE: 0.342035151822"
       ]
      },
      {
       "output_type": "stream",
       "stream": "stdout",
       "text": [
        "\n",
        "TOTAL RMSLE: 0.344630142427\n"
       ]
      }
     ],
     "prompt_number": 88
    },
    {
     "cell_type": "code",
     "collapsed": false,
     "input": [
      "from sklearn.ensemble import GradientBoostingRegressor\n",
      "\n",
      "go(GradientBoostingRegressor)"
     ],
     "language": "python",
     "metadata": {},
     "outputs": [
      {
       "output_type": "stream",
       "stream": "stdout",
       "text": [
        "ABCMeta {}\n",
        "CASUAL RMSLE: 0.547025199563"
       ]
      },
      {
       "output_type": "stream",
       "stream": "stdout",
       "text": [
        "\n",
        "REGISTERED RMSLE: 0.352393431836"
       ]
      },
      {
       "output_type": "stream",
       "stream": "stdout",
       "text": [
        "\n",
        "TOTAL RMSLE: 0.356038868915\n"
       ]
      }
     ],
     "prompt_number": 89
    },
    {
     "cell_type": "code",
     "collapsed": false,
     "input": [
      "from sklearn.ensemble import RandomForestRegressor\n",
      "\n",
      "go(RandomForestRegressor)"
     ],
     "language": "python",
     "metadata": {},
     "outputs": [
      {
       "output_type": "stream",
       "stream": "stdout",
       "text": [
        "ABCMeta {}\n",
        "CASUAL RMSLE: 0.571374924125"
       ]
      },
      {
       "output_type": "stream",
       "stream": "stdout",
       "text": [
        "\n",
        "REGISTERED RMSLE: 0.320517779074"
       ]
      },
      {
       "output_type": "stream",
       "stream": "stdout",
       "text": [
        "\n",
        "TOTAL RMSLE: 0.329366426876\n"
       ]
      }
     ],
     "prompt_number": 90
    },
    {
     "cell_type": "heading",
     "level": 2,
     "metadata": {},
     "source": [
      "Linear Models"
     ]
    },
    {
     "cell_type": "code",
     "collapsed": false,
     "input": [
      "from sklearn.linear_model import ARDRegression\n",
      "\n",
      "#go(ARDRegression)"
     ],
     "language": "python",
     "metadata": {},
     "outputs": [],
     "prompt_number": 49
    },
    {
     "cell_type": "code",
     "collapsed": false,
     "input": [
      "from sklearn.linear_model import BayesianRidge\n",
      "\n",
      "go(BayesianRidge)"
     ],
     "language": "python",
     "metadata": {},
     "outputs": [
      {
       "output_type": "stream",
       "stream": "stdout",
       "text": [
        "ABCMeta {}\n",
        "CASUAL RMSLE: 0.949881982961\n",
        "REGISTERED RMSLE: 1.01087156298\n",
        "TOTAL RMSLE: 1.00154175773\n"
       ]
      }
     ],
     "prompt_number": 50
    },
    {
     "cell_type": "code",
     "collapsed": false,
     "input": [
      "from sklearn.linear_model import ElasticNet\n",
      "\n",
      "go(ElasticNet)"
     ],
     "language": "python",
     "metadata": {},
     "outputs": [
      {
       "output_type": "stream",
       "stream": "stdout",
       "text": [
        "ABCMeta {}\n",
        "CASUAL RMSLE: 1.0188673226\n",
        "REGISTERED RMSLE: 1.06046419956\n",
        "TOTAL RMSLE: 1.05044034996\n"
       ]
      }
     ],
     "prompt_number": 51
    },
    {
     "cell_type": "code",
     "collapsed": false,
     "input": [
      "from sklearn.linear_model import ElasticNetCV\n",
      "go(ElasticNetCV)"
     ],
     "language": "python",
     "metadata": {},
     "outputs": [
      {
       "output_type": "stream",
       "stream": "stdout",
       "text": [
        "ABCMeta {}\n",
        "CASUAL RMSLE: 0.946808783932"
       ]
      },
      {
       "output_type": "stream",
       "stream": "stdout",
       "text": [
        "\n",
        "REGISTERED RMSLE: 1.01227120399"
       ]
      },
      {
       "output_type": "stream",
       "stream": "stdout",
       "text": [
        "\n",
        "TOTAL RMSLE: 1.00278998882\n"
       ]
      }
     ],
     "prompt_number": 52
    },
    {
     "cell_type": "code",
     "collapsed": false,
     "input": [
      "from sklearn.linear_model import Lars\n",
      "#go(Lars)"
     ],
     "language": "python",
     "metadata": {},
     "outputs": [],
     "prompt_number": 53
    },
    {
     "cell_type": "code",
     "collapsed": false,
     "input": [
      "from sklearn.linear_model import LarsCV\n",
      "#go(LarsCV)"
     ],
     "language": "python",
     "metadata": {},
     "outputs": [],
     "prompt_number": 54
    },
    {
     "cell_type": "code",
     "collapsed": false,
     "input": [
      "from sklearn.linear_model import Lasso\n",
      "go(Lasso)"
     ],
     "language": "python",
     "metadata": {},
     "outputs": [
      {
       "output_type": "stream",
       "stream": "stdout",
       "text": [
        "ABCMeta {}\n",
        "CASUAL RMSLE: 1.03391809084\n",
        "REGISTERED RMSLE: 1.0792190127\n",
        "TOTAL RMSLE: 1.06917622088\n"
       ]
      }
     ],
     "prompt_number": 55
    },
    {
     "cell_type": "code",
     "collapsed": false,
     "input": [
      "from sklearn.linear_model import LassoCV\n",
      "go(LassoCV)"
     ],
     "language": "python",
     "metadata": {},
     "outputs": [
      {
       "output_type": "stream",
       "stream": "stdout",
       "text": [
        "ABCMeta {}\n",
        "CASUAL RMSLE: 0.946930584561"
       ]
      },
      {
       "output_type": "stream",
       "stream": "stdout",
       "text": [
        "\n",
        "REGISTERED RMSLE: 1.0119115771"
       ]
      },
      {
       "output_type": "stream",
       "stream": "stdout",
       "text": [
        "\n",
        "TOTAL RMSLE: 1.00241756325\n"
       ]
      }
     ],
     "prompt_number": 56
    },
    {
     "cell_type": "code",
     "collapsed": false,
     "input": [
      "from sklearn.linear_model import LassoLars\n",
      "go(LassoLars)"
     ],
     "language": "python",
     "metadata": {},
     "outputs": [
      {
       "output_type": "stream",
       "stream": "stdout",
       "text": [
        "ABCMeta {}\n",
        "CASUAL RMSLE: 1.46278296645\n",
        "REGISTERED RMSLE: 1.38321707682\n",
        "TOTAL RMSLE: 1.39845739122\n"
       ]
      }
     ],
     "prompt_number": 57
    },
    {
     "cell_type": "code",
     "collapsed": false,
     "input": [
      "from sklearn.linear_model import LassoLarsCV\n",
      "#go(LassoLarsCV)"
     ],
     "language": "python",
     "metadata": {},
     "outputs": [],
     "prompt_number": 58
    },
    {
     "cell_type": "code",
     "collapsed": false,
     "input": [
      "from sklearn.linear_model import LassoLarsIC\n",
      "#go(LassoLarsIC)"
     ],
     "language": "python",
     "metadata": {},
     "outputs": [],
     "prompt_number": 59
    },
    {
     "cell_type": "code",
     "collapsed": false,
     "input": [
      "from sklearn.linear_model import LinearRegression\n",
      "go(LinearRegression)"
     ],
     "language": "python",
     "metadata": {},
     "outputs": [
      {
       "output_type": "stream",
       "stream": "stdout",
       "text": [
        "ABCMeta {}\n",
        "CASUAL RMSLE: 0.95016539372\n",
        "REGISTERED RMSLE: 1.01065231265\n",
        "TOTAL RMSLE: 1.00130132715\n"
       ]
      }
     ],
     "prompt_number": 60
    },
    {
     "cell_type": "code",
     "collapsed": false,
     "input": [
      "from sklearn.linear_model import Ridge\n",
      "go(Ridge)"
     ],
     "language": "python",
     "metadata": {},
     "outputs": [
      {
       "output_type": "stream",
       "stream": "stdout",
       "text": [
        "ABCMeta {}\n",
        "CASUAL RMSLE: 0.950152241277\n",
        "REGISTERED RMSLE: 1.01065660423\n",
        "TOTAL RMSLE: 1.00130635476\n"
       ]
      }
     ],
     "prompt_number": 61
    },
    {
     "cell_type": "heading",
     "level": 1,
     "metadata": {},
     "source": [
      "Nearest Neighbors"
     ]
    },
    {
     "cell_type": "code",
     "collapsed": false,
     "input": [
      "from sklearn.neighbors import KNeighborsRegressor\n",
      "go(KNeighborsRegressor)"
     ],
     "language": "python",
     "metadata": {},
     "outputs": [
      {
       "output_type": "stream",
       "stream": "stdout",
       "text": [
        "ABCMeta {}\n",
        "CASUAL RMSLE: 0.916540840709"
       ]
      },
      {
       "output_type": "stream",
       "stream": "stdout",
       "text": [
        "\n",
        "REGISTERED RMSLE: 0.975108453904"
       ]
      },
      {
       "output_type": "stream",
       "stream": "stdout",
       "text": [
        "\n",
        "TOTAL RMSLE: 0.952302713359\n"
       ]
      }
     ],
     "prompt_number": 62
    },
    {
     "cell_type": "code",
     "collapsed": false,
     "input": [
      "from sklearn.neighbors import RadiusNeighborsRegressor\n",
      "go(RadiusNeighborsRegressor)"
     ],
     "language": "python",
     "metadata": {},
     "outputs": [
      {
       "output_type": "stream",
       "stream": "stdout",
       "text": [
        "ABCMeta {}\n",
        "CASUAL RMSLE: nan"
       ]
      },
      {
       "output_type": "stream",
       "stream": "stdout",
       "text": [
        "\n",
        "REGISTERED RMSLE: nan"
       ]
      },
      {
       "output_type": "stream",
       "stream": "stdout",
       "text": [
        "\n",
        "TOTAL RMSLE: nan\n"
       ]
      }
     ],
     "prompt_number": 63
    },
    {
     "cell_type": "heading",
     "level": 1,
     "metadata": {},
     "source": [
      "Cross Decomposition"
     ]
    },
    {
     "cell_type": "code",
     "collapsed": true,
     "input": [
      "from sklearn.cross_decomposition import PLSRegression\n",
      "go(PLSRegression)"
     ],
     "language": "python",
     "metadata": {},
     "outputs": [
      {
       "output_type": "stream",
       "stream": "stdout",
       "text": [
        "ABCMeta {}\n",
        "CASUAL RMSLE: 1.79860647232"
       ]
      },
      {
       "output_type": "stream",
       "stream": "stdout",
       "text": [
        "\n",
        "REGISTERED RMSLE: 1.6465844522"
       ]
      },
      {
       "output_type": "stream",
       "stream": "stdout",
       "text": [
        "\n",
        "TOTAL RMSLE: 1.67023753703"
       ]
      },
      {
       "output_type": "stream",
       "stream": "stdout",
       "text": [
        "\n"
       ]
      }
     ],
     "prompt_number": 64
    },
    {
     "cell_type": "heading",
     "level": 1,
     "metadata": {},
     "source": [
      "Support Vector Machines"
     ]
    },
    {
     "cell_type": "code",
     "collapsed": false,
     "input": [
      "from sklearn.svm import SVR\n",
      "go(SVR)"
     ],
     "language": "python",
     "metadata": {},
     "outputs": [
      {
       "output_type": "stream",
       "stream": "stdout",
       "text": [
        "ABCMeta {}\n",
        "CASUAL RMSLE: 1.37199479674"
       ]
      },
      {
       "output_type": "stream",
       "stream": "stdout",
       "text": [
        "\n",
        "REGISTERED RMSLE: 1.31766275134"
       ]
      },
      {
       "output_type": "stream",
       "stream": "stdout",
       "text": [
        "\n",
        "TOTAL RMSLE: 1.32414979945\n"
       ]
      }
     ],
     "prompt_number": 65
    },
    {
     "cell_type": "code",
     "collapsed": false,
     "input": [
      "from sklearn.svm import NuSVR\n",
      "go(NuSVR)"
     ],
     "language": "python",
     "metadata": {},
     "outputs": [
      {
       "output_type": "stream",
       "stream": "stdout",
       "text": [
        "ABCMeta {}\n",
        "CASUAL RMSLE: 1.37712127793"
       ]
      },
      {
       "output_type": "stream",
       "stream": "stdout",
       "text": [
        "\n",
        "REGISTERED RMSLE: 1.31765917064"
       ]
      },
      {
       "output_type": "stream",
       "stream": "stdout",
       "text": [
        "\n",
        "TOTAL RMSLE: 1.3251781328\n"
       ]
      }
     ],
     "prompt_number": 66
    },
    {
     "cell_type": "heading",
     "level": 1,
     "metadata": {},
     "source": [
      "Decision Trees"
     ]
    },
    {
     "cell_type": "code",
     "collapsed": false,
     "input": [
      "from sklearn.tree import DecisionTreeRegressor\n",
      "go(DecisionTreeRegressor)"
     ],
     "language": "python",
     "metadata": {},
     "outputs": [
      {
       "output_type": "stream",
       "stream": "stdout",
       "text": [
        "ABCMeta {}\n",
        "CASUAL RMSLE: 0.776009980974"
       ]
      },
      {
       "output_type": "stream",
       "stream": "stdout",
       "text": [
        "\n",
        "REGISTERED RMSLE: 0.444214093399"
       ]
      },
      {
       "output_type": "stream",
       "stream": "stdout",
       "text": [
        "\n",
        "TOTAL RMSLE: 0.444497961995\n"
       ]
      }
     ],
     "prompt_number": 67
    },
    {
     "cell_type": "code",
     "collapsed": false,
     "input": [
      "from sklearn.tree import ExtraTreeRegressor\n",
      "go(ExtraTreeRegressor)"
     ],
     "language": "python",
     "metadata": {},
     "outputs": [
      {
       "output_type": "stream",
       "stream": "stdout",
       "text": [
        "ABCMeta {}\n",
        "CASUAL RMSLE: 0.766903828006"
       ]
      },
      {
       "output_type": "stream",
       "stream": "stdout",
       "text": [
        "\n",
        "REGISTERED RMSLE: 0.463359500046"
       ]
      },
      {
       "output_type": "stream",
       "stream": "stdout",
       "text": [
        "\n",
        "TOTAL RMSLE: 0.438813555025\n"
       ]
      }
     ],
     "prompt_number": 68
    },
    {
     "cell_type": "code",
     "collapsed": false,
     "input": [],
     "language": "python",
     "metadata": {},
     "outputs": [],
     "prompt_number": 68
    }
   ],
   "metadata": {}
  }
 ]
}