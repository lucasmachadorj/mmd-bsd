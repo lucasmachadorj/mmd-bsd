{
 "metadata": {
  "name": "",
  "signature": "sha256:0b0a8b4dbfbb2d6e7b2b0f78160423db7da2624ed74ff55d8532695ae88f7fed"
 },
 "nbformat": 3,
 "nbformat_minor": 0,
 "worksheets": [
  {
   "cells": [
    {
     "cell_type": "code",
     "collapsed": false,
     "input": [
      "import datetime\n",
      "import numpy as np\n",
      "import pandas as pd\n",
      "import itertools\n",
      "import matplotlib.pyplot as plt\n",
      "import collections\n",
      "import datetime\n",
      "\n",
      "def fixNegatives(vector):\n",
      "    for i in range(len(vector)):\n",
      "        if vector[i]<0:\n",
      "            vector[i]=0\n",
      "    pass\n",
      "\n",
      "plt.rcParams['figure.figsize'] = (20,5)\n",
      "%matplotlib inline"
     ],
     "language": "python",
     "metadata": {},
     "outputs": [],
     "prompt_number": 1
    },
    {
     "cell_type": "heading",
     "level": 1,
     "metadata": {},
     "source": [
      "Dataset"
     ]
    },
    {
     "cell_type": "heading",
     "level": 1,
     "metadata": {},
     "source": [
      "import"
     ]
    },
    {
     "cell_type": "code",
     "collapsed": false,
     "input": [
      "datasets = \"../datasets/\"\n",
      "train_data = pd.read_csv(datasets+\"train.csv\",sep=',')\n",
      "train_data['datetime']  = pd.to_datetime(train_data['datetime'],infer_datetime_format=True)"
     ],
     "language": "python",
     "metadata": {},
     "outputs": [],
     "prompt_number": 2
    },
    {
     "cell_type": "heading",
     "level": 2,
     "metadata": {},
     "source": [
      "separando datetime"
     ]
    },
    {
     "cell_type": "code",
     "collapsed": false,
     "input": [
      "train_data['year'] = train_data.apply(lambda row: pd.to_datetime(row['datetime']).year,axis=1)\n",
      "train_data['month'] = train_data.apply(lambda row: pd.to_datetime(row['datetime']).month,axis=1)\n",
      "train_data['day'] = train_data.apply(lambda row: pd.to_datetime(row['datetime']).day,axis=1)\n",
      "train_data['hour'] = train_data.apply(lambda row: pd.to_datetime(row['datetime']).hour,axis=1)\n",
      "train_data['weekday'] = train_data.apply(lambda row: pd.to_datetime(row['datetime']).dayofweek,axis=1)\n",
      "\n",
      "train_data = train_data.set_index('datetime')"
     ],
     "language": "python",
     "metadata": {},
     "outputs": [],
     "prompt_number": 3
    },
    {
     "cell_type": "heading",
     "level": 2,
     "metadata": {},
     "source": [
      "an\u00e1lise de temperaturas di\u00e1rias"
     ]
    },
    {
     "cell_type": "code",
     "collapsed": false,
     "input": [
      "daytemps = train_data['temp'].groupby([train_data.index.year,train_data.index.month,train_data.index.day])\n",
      "meant = daytemps.mean()\n",
      "maxt = daytemps.max()\n",
      "mint = daytemps.min()\n",
      "\n",
      "\n",
      "train_data['max temp'] = train_data.apply(lambda row: maxt[(row['year'],row['month'],row['day'])], axis=1)\n",
      "train_data['avg temp'] = train_data.apply(lambda row: meant[(row['year'],row['month'],row['day'])], axis=1)\n",
      "train_data['min temp'] = train_data.apply(lambda row: mint[(row['year'],row['month'],row['day'])], axis=1)"
     ],
     "language": "python",
     "metadata": {},
     "outputs": [],
     "prompt_number": 4
    },
    {
     "cell_type": "heading",
     "level": 1,
     "metadata": {},
     "source": [
      "Externo"
     ]
    },
    {
     "cell_type": "heading",
     "level": 2,
     "metadata": {},
     "source": [
      "Eventos Significativos"
     ]
    },
    {
     "cell_type": "code",
     "collapsed": false,
     "input": [
      "events = collections.defaultdict(int,{\n",
      "(29,10,2012):5,\n",
      "(30,10,2012):5,\n",
      "(19,10,2012):5,\n",
      "(4,7,2012):5,\n",
      "(23,11,2012):4,\n",
      "(24,12,2012):4,\n",
      "(8,10,2012):4,\n",
      "(27,5,2012):4,\n",
      "(22,11,2012):3,\n",
      "(12,11,2012):2,\n",
      "(16,4,2012):1,\n",
      "(23,3,2012):5,\n",
      "(18,9,2012):5,\n",
      "(18,7,2012):5,\n",
      "(1,6,2012):4,\n",
      "(4,12,2012):4,\n",
      "(13,5,2012):3,\n",
      "(11,2,2012):3,\n",
      "(23,1,2012):3,\n",
      "(29,9,2012):3,\n",
      "(25,11,2012):2,\n",
      "(7,10,2012):2,\n",
      "(7,4,2012):2,\n",
      "(26,5,2012):2,\n",
      "(21,5,2012):2,\n",
      "(15,9,2012):2,\n",
      "(11,10,2012):2,\n",
      "(12,10,2012):2,\n",
      "(29,1,2012):1,\n",
      "(19,5,2012):1})"
     ],
     "language": "python",
     "metadata": {},
     "outputs": [],
     "prompt_number": 5
    },
    {
     "cell_type": "code",
     "collapsed": false,
     "input": [
      "train_data['event'] = train_data.apply(lambda row: events[(row['day'],row['month'],row['year'])], axis=1)"
     ],
     "language": "python",
     "metadata": {},
     "outputs": [],
     "prompt_number": 6
    },
    {
     "cell_type": "code",
     "collapsed": false,
     "input": [
      "train_data.to_csv(\"../datasets/super_train.csv\")"
     ],
     "language": "python",
     "metadata": {},
     "outputs": [],
     "prompt_number": 7
    },
    {
     "cell_type": "code",
     "collapsed": false,
     "input": [],
     "language": "python",
     "metadata": {},
     "outputs": []
    }
   ],
   "metadata": {}
  }
 ]
}