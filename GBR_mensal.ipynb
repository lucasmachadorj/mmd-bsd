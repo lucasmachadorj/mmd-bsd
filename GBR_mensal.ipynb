{
 "metadata": {
  "name": "",
  "signature": "sha256:de1fb76c845e5bb4465d00528a5afe1854a185b7775066a746e245a9fdbb34db"
 },
 "nbformat": 3,
 "nbformat_minor": 0,
 "worksheets": [
  {
   "cells": [
    {
     "cell_type": "code",
     "collapsed": false,
     "input": [
      "import datetime\n",
      "import numpy as np\n",
      "import pandas as pd\n",
      "import matplotlib.pyplot as plt\n",
      "\n",
      "from sklearn.ensemble import GradientBoostingRegressor\n",
      "\n",
      "def fixNegatives(vector):\n",
      "    for i in range(len(vector)):\n",
      "        if vector[i]<0:\n",
      "            vector[i]=0\n",
      "    pass\n",
      "\n",
      "def RMSLE(p,a):\n",
      "    return np.sqrt(np.mean(np.power(np.log(np.array(p)+1) - np.log(np.array(a)+1), 2)))\n",
      "\n",
      "%matplotlib inline\n",
      "\n",
      "datasets = \"datasets/\""
     ],
     "language": "python",
     "metadata": {},
     "outputs": [],
     "prompt_number": 1
    },
    {
     "cell_type": "code",
     "collapsed": false,
     "input": [
      "train_data = pd.read_csv(datasets+\"train.csv\",sep=',')\n",
      "train_data['datetime']  = pd.to_datetime(train_data['datetime'],infer_datetime_format=True)\n",
      "\n",
      "# Engenharia de Features\n",
      "train_data['year'] = train_data.apply(lambda row: pd.to_datetime(row['datetime']).year,axis=1)\n",
      "train_data['month'] = train_data.apply(lambda row: pd.to_datetime(row['datetime']).month,axis=1)\n",
      "train_data['day'] = train_data.apply(lambda row: pd.to_datetime(row['datetime']).day,axis=1)\n",
      "train_data['hour'] = train_data.apply(lambda row: pd.to_datetime(row['datetime']).hour,axis=1)\n",
      "train_data['weekday'] = train_data.apply(lambda row: pd.to_datetime(row['datetime']).dayofweek,axis=1)\n",
      "\n",
      "train_data = train_data.set_index('datetime')"
     ],
     "language": "python",
     "metadata": {},
     "outputs": [],
     "prompt_number": 2
    },
    {
     "cell_type": "code",
     "collapsed": false,
     "input": [
      "def getcol(matrix,c):\n",
      "    return np.array([line[c] for line in matrix])\n",
      "\n",
      "setup = {'n_estimators':100}\n",
      "notfeature = ['casual','registered','count','season','workingday','temp']\n",
      "features = [L for L in train_data.columns if L not in notfeature]\n",
      "trainday = 16\n",
      "\n",
      "for year in range(2011,2013):\n",
      "    for month in range(1,13):\n",
      "        print year,month\n",
      "        month_data = train_data[(train_data.index.year <= year) & (train_data.index.month <= month)]\n",
      "        \n",
      "        X_train = month_data[features][month_data['day']<trainday].values\n",
      "        y_train = month_data[['casual','registered']][month_data['day']<trainday].values\n",
      "        y_train_casual = getcol(y_train,0)\n",
      "        y_train_registered = getcol(y_train,1)\n",
      "        \n",
      "        ylog_train_casual = np.log(y_train_casual+1)\n",
      "        ylog_train_registered = np.log(y_train_registered+1)\n",
      "        \n",
      "        \n",
      "        X_test = month_data[features][month_data['day']>=trainday].values\n",
      "        y_test = month_data[['casual','registered']][month_data['day']>=trainday].values\n",
      "        y_test_casual = getcol(y_test,0)\n",
      "        y_test_registered = getcol(y_test,1)\n",
      "        y_true = month_data[['count']][month_data['day']>=trainday].values\n",
      "        y_true = getcol(y_true,0)\n",
      "        \n",
      "\n",
      "        gbrlog_casual = GradientBoostingRegressor(**setup).fit(X_train,ylog_train_casual)\n",
      "        ylog_pred_casual = gbrlog_casual.predict(X_test)\n",
      "        fixNegatives(ylog_pred_casual)\n",
      "        \n",
      "        gbrlog_registered = GradientBoostingRegressor(**setup).fit(X_train,ylog_train_registered)\n",
      "        ylog_pred_registered = gbrlog_registered.predict(X_test)\n",
      "        fixNegatives(ylog_pred_registered)\n",
      "        \n",
      "        y_try = np.array(np.exp(ylog_pred_casual)-1)+np.array(np.exp(ylog_pred_registered)-1)\n",
      "        \n",
      "        \n",
      "        print \"TOTAL RMSLE: {}\".format(RMSLE(y_true,y_try))"
     ],
     "language": "python",
     "metadata": {},
     "outputs": [
      {
       "output_type": "stream",
       "stream": "stdout",
       "text": [
        "2011 1\n",
        "TOTAL RMSLE: 0.703725799695"
       ]
      },
      {
       "output_type": "stream",
       "stream": "stdout",
       "text": [
        "\n",
        "2011 2\n",
        "TOTAL RMSLE: 0.524876706681"
       ]
      },
      {
       "output_type": "stream",
       "stream": "stdout",
       "text": [
        "\n",
        "2011 3\n",
        "TOTAL RMSLE: 0.482149073913"
       ]
      },
      {
       "output_type": "stream",
       "stream": "stdout",
       "text": [
        "\n",
        "2011 4\n",
        "TOTAL RMSLE: 0.469714692205"
       ]
      },
      {
       "output_type": "stream",
       "stream": "stdout",
       "text": [
        "\n",
        "2011 5\n",
        "TOTAL RMSLE: 0.449069630806"
       ]
      },
      {
       "output_type": "stream",
       "stream": "stdout",
       "text": [
        "\n",
        "2011 6\n",
        "TOTAL RMSLE: 0.424030571922"
       ]
      },
      {
       "output_type": "stream",
       "stream": "stdout",
       "text": [
        "\n",
        "2011 7\n",
        "TOTAL RMSLE: 0.410727210113"
       ]
      },
      {
       "output_type": "stream",
       "stream": "stdout",
       "text": [
        "\n",
        "2011 8\n",
        "TOTAL RMSLE: 0.393243037661"
       ]
      },
      {
       "output_type": "stream",
       "stream": "stdout",
       "text": [
        "\n",
        "2011 9\n",
        "TOTAL RMSLE: 0.396712405566"
       ]
      },
      {
       "output_type": "stream",
       "stream": "stdout",
       "text": [
        "\n",
        "2011 10\n",
        "TOTAL RMSLE: 0.39328652092"
       ]
      },
      {
       "output_type": "stream",
       "stream": "stdout",
       "text": [
        "\n",
        "2011 11\n",
        "TOTAL RMSLE: 0.385038492817"
       ]
      },
      {
       "output_type": "stream",
       "stream": "stdout",
       "text": [
        "\n",
        "2011 12\n",
        "TOTAL RMSLE: 0.374559352184"
       ]
      },
      {
       "output_type": "stream",
       "stream": "stdout",
       "text": [
        "\n",
        "2012 1\n",
        "TOTAL RMSLE: 0.571082787902"
       ]
      },
      {
       "output_type": "stream",
       "stream": "stdout",
       "text": [
        "\n",
        "2012 2\n",
        "TOTAL RMSLE: 0.480568728925"
       ]
      },
      {
       "output_type": "stream",
       "stream": "stdout",
       "text": [
        "\n",
        "2012 3\n",
        "TOTAL RMSLE: 0.458937700962"
       ]
      },
      {
       "output_type": "stream",
       "stream": "stdout",
       "text": [
        "\n",
        "2012 4\n",
        "TOTAL RMSLE: 0.460237959798"
       ]
      },
      {
       "output_type": "stream",
       "stream": "stdout",
       "text": [
        "\n",
        "2012 5\n",
        "TOTAL RMSLE: 0.43820375531"
       ]
      },
      {
       "output_type": "stream",
       "stream": "stdout",
       "text": [
        "\n",
        "2012 6\n",
        "TOTAL RMSLE: 0.410942075519"
       ]
      },
      {
       "output_type": "stream",
       "stream": "stdout",
       "text": [
        "\n",
        "2012 7\n",
        "TOTAL RMSLE: 0.402005588669"
       ]
      },
      {
       "output_type": "stream",
       "stream": "stdout",
       "text": [
        "\n",
        "2012 8\n",
        "TOTAL RMSLE: 0.408724666769"
       ]
      },
      {
       "output_type": "stream",
       "stream": "stdout",
       "text": [
        "\n",
        "2012 9\n",
        "TOTAL RMSLE: 0.400408089507"
       ]
      },
      {
       "output_type": "stream",
       "stream": "stdout",
       "text": [
        "\n",
        "2012 10\n",
        "TOTAL RMSLE: 0.381186788594"
       ]
      },
      {
       "output_type": "stream",
       "stream": "stdout",
       "text": [
        "\n",
        "2012 11\n",
        "TOTAL RMSLE: 0.38225512601"
       ]
      },
      {
       "output_type": "stream",
       "stream": "stdout",
       "text": [
        "\n",
        "2012 12\n",
        "TOTAL RMSLE: 0.381778215632"
       ]
      },
      {
       "output_type": "stream",
       "stream": "stdout",
       "text": [
        "\n"
       ]
      }
     ],
     "prompt_number": 16
    },
    {
     "cell_type": "code",
     "collapsed": false,
     "input": [],
     "language": "python",
     "metadata": {},
     "outputs": []
    }
   ],
   "metadata": {}
  }
 ]
}