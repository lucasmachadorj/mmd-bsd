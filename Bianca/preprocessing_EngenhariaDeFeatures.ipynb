{
 "metadata": {
  "name": "",
  "signature": "sha256:6dce3278e386923c536df5ac33a73b6b29e75eb377952d75d736266b9fd68afc"
 },
 "nbformat": 3,
 "nbformat_minor": 0,
 "worksheets": [
  {
   "cells": [
    {
     "cell_type": "code",
     "collapsed": false,
     "input": [
      "import datetime\n",
      "import numpy as np\n",
      "import pandas as pd\n",
      "import itertools\n",
      "import matplotlib.pyplot as plt\n",
      "import collections\n",
      "import datetime\n",
      "\n",
      "def fixNegatives(vector):\n",
      "    for i in range(len(vector)):\n",
      "        if vector[i]<0:\n",
      "            vector[i]=0\n",
      "    pass\n",
      "\n",
      "%matplotlib inline"
     ],
     "language": "python",
     "metadata": {},
     "outputs": [],
     "prompt_number": 89
    },
    {
     "cell_type": "heading",
     "level": 1,
     "metadata": {},
     "source": [
      "Dataset"
     ]
    },
    {
     "cell_type": "heading",
     "level": 1,
     "metadata": {},
     "source": [
      "import"
     ]
    },
    {
     "cell_type": "code",
     "collapsed": false,
     "input": [
      "datasets = \"../datasets/\"\n",
      "train_data = pd.read_csv(datasets+\"train.csv\",sep=',')\n",
      "train_data['datetime']  = pd.to_datetime(train_data['datetime'],infer_datetime_format=True)"
     ],
     "language": "python",
     "metadata": {},
     "outputs": [],
     "prompt_number": 90
    },
    {
     "cell_type": "code",
     "collapsed": false,
     "input": [
      "datasets = \"../datasets/\"\n",
      "test_data = pd.read_csv(datasets+\"test.csv\",sep=',')\n",
      "test_data['datetime']  = pd.to_datetime(test_data['datetime'],infer_datetime_format=True)"
     ],
     "language": "python",
     "metadata": {},
     "outputs": [],
     "prompt_number": 91
    },
    {
     "cell_type": "heading",
     "level": 2,
     "metadata": {},
     "source": [
      "separando datetime"
     ]
    },
    {
     "cell_type": "code",
     "collapsed": false,
     "input": [
      "train_data['year'] = train_data.apply(lambda row: pd.to_datetime(row['datetime']).year,axis=1)\n",
      "train_data['month'] = train_data.apply(lambda row: pd.to_datetime(row['datetime']).month,axis=1)\n",
      "train_data['day'] = train_data.apply(lambda row: pd.to_datetime(row['datetime']).day,axis=1)\n",
      "train_data['hour'] = train_data.apply(lambda row: pd.to_datetime(row['datetime']).hour,axis=1)\n",
      "train_data['weekday'] = train_data.apply(lambda row: pd.to_datetime(row['datetime']).dayofweek,axis=1)\n",
      "\n",
      "train_data = train_data.set_index('datetime')"
     ],
     "language": "python",
     "metadata": {},
     "outputs": [],
     "prompt_number": 92
    },
    {
     "cell_type": "code",
     "collapsed": false,
     "input": [
      "test_data['year'] = test_data.apply(lambda row: pd.to_datetime(row['datetime']).year,axis=1)\n",
      "test_data['month'] = test_data.apply(lambda row: pd.to_datetime(row['datetime']).month,axis=1)\n",
      "test_data['day'] = test_data.apply(lambda row: pd.to_datetime(row['datetime']).day,axis=1)\n",
      "test_data['hour'] = test_data.apply(lambda row: pd.to_datetime(row['datetime']).hour,axis=1)\n",
      "test_data['weekday'] = test_data.apply(lambda row: pd.to_datetime(row['datetime']).dayofweek,axis=1)\n",
      "\n",
      "test_data = test_data.set_index('datetime')"
     ],
     "language": "python",
     "metadata": {},
     "outputs": [],
     "prompt_number": 93
    },
    {
     "cell_type": "heading",
     "level": 2,
     "metadata": {},
     "source": [
      "an\u00e1lise de temperaturas di\u00e1rias"
     ]
    },
    {
     "cell_type": "code",
     "collapsed": false,
     "input": [
      "daytemps = train_data['temp'].groupby([train_data.index.year,train_data.index.month,train_data.index.day])\n",
      "meant = daytemps.mean()\n",
      "maxt = daytemps.max()\n",
      "mint = daytemps.min()\n",
      "\n",
      "\n",
      "train_data['max temp'] = train_data.apply(lambda row: maxt[(row['year'],row['month'],row['day'])], axis=1)\n",
      "train_data['avg temp'] = train_data.apply(lambda row: meant[(row['year'],row['month'],row['day'])], axis=1)\n",
      "train_data['min temp'] = train_data.apply(lambda row: mint[(row['year'],row['month'],row['day'])], axis=1)"
     ],
     "language": "python",
     "metadata": {},
     "outputs": [],
     "prompt_number": 94
    },
    {
     "cell_type": "code",
     "collapsed": false,
     "input": [
      "daytemps = test_data['temp'].groupby([test_data.index.year,test_data.index.month,test_data.index.day])\n",
      "meant = daytemps.mean()\n",
      "maxt = daytemps.max()\n",
      "mint = daytemps.min()\n",
      "\n",
      "\n",
      "test_data['max temp'] = test_data.apply(lambda row: maxt[(row['year'],row['month'],row['day'])], axis=1)\n",
      "test_data['avg temp'] = test_data.apply(lambda row: meant[(row['year'],row['month'],row['day'])], axis=1)\n",
      "test_data['min temp'] = test_data.apply(lambda row: mint[(row['year'],row['month'],row['day'])], axis=1)"
     ],
     "language": "python",
     "metadata": {},
     "outputs": [],
     "prompt_number": 95
    },
    {
     "cell_type": "code",
     "collapsed": false,
     "input": [
      "def periodo (util, horanp):\n",
      "    hora = np.float(horanp)\n",
      "    if util == 0:\n",
      "        if (hora>=5.0 and hora <13.0):\n",
      "            return 0\n",
      "        else: \n",
      "            return 6\n",
      "    else:\n",
      "        if (hora>=0.0 and hora<5.0):\n",
      "            return 1\n",
      "        elif (hora>=5.0 and hora<7.0):\n",
      "            return 2\n",
      "        elif (hora>=7.0 and hora<10.0):\n",
      "            return 3\n",
      "        elif (hora>=10.0 and hora<15.0):\n",
      "            return 4\n",
      "        else:\n",
      "            return 5"
     ],
     "language": "python",
     "metadata": {},
     "outputs": [],
     "prompt_number": 96
    },
    {
     "cell_type": "code",
     "collapsed": false,
     "input": [
      "train_data['periodo'] = train_data.apply(lambda n: periodo(n['workingday'], n['hour']), axis=1)"
     ],
     "language": "python",
     "metadata": {},
     "outputs": [],
     "prompt_number": 97
    },
    {
     "cell_type": "code",
     "collapsed": false,
     "input": [
      "test_data['periodo'] = test_data.apply(lambda n: periodo(n['workingday'], n['hour']), axis=1)"
     ],
     "language": "python",
     "metadata": {},
     "outputs": [],
     "prompt_number": 98
    },
    {
     "cell_type": "heading",
     "level": 1,
     "metadata": {},
     "source": [
      "Externo"
     ]
    },
    {
     "cell_type": "heading",
     "level": 2,
     "metadata": {},
     "source": [
      "Eventos Significativos - Extra\u00eddos do artigo"
     ]
    },
    {
     "cell_type": "code",
     "collapsed": false,
     "input": [
      "article_events = collections.defaultdict(int,{\n",
      "(29,10,2012):2, # Sandy\n",
      "(30,10,2012):2, # Sandy\n",
      "(19,10,2012):2, # Storm\n",
      "(4,7,2012):2, # Washington Fireworks\n",
      "(23,11,2012):1, # Black Friday\n",
      "(24,12,2012):1, # Christmas\n",
      "(8,10,2012):1, # Columbus Day\n",
      "(27,5,2012):1, # Memorial Day\n",
      "(22,11,2012):1, # Thanksgiving\n",
      "(12,11,2012):1, # Veterans Day\n",
      "(16,4,2012):1, # Tax Day\n",
      "})\n",
      "\n",
      "lesser_events = collections.defaultdict(int,{\n",
      "(23,3,2012):1, # National Cherry Blossom Festival\n",
      "(18,9,2012):1, # Heavy Rain\n",
      "(18,7,2012):1, # Thunderstorm\n",
      "(1,6,2012):1, # Tornado\n",
      "(4,12,2012):1, # Flood\n",
      "(13,5,2012):1, # Bike DC\n",
      "(11,2,2012):1, # Cupid Undie Run\n",
      "(23,1,2012):1, # March for Life\n",
      "(29,9,2012):1, # Green Festival\n",
      "(25,11,2012):1, # Cold morning\n",
      "(7,10,2012):1, # Cool weather\n",
      "(7,4,2012):1, # Games\n",
      "(26,5,2012):1, # Games \n",
      "(21,5,2012):1, # Showers and Storms\n",
      "(15,9,2012):1, # Game\n",
      "(11,10,2012):1, # Game\n",
      "(12,10,2012):1, # Game\n",
      "(29,1,2012):1, # Occupy DC\n",
      "(19,5,2012):1}) # Survive DC"
     ],
     "language": "python",
     "metadata": {},
     "outputs": [],
     "prompt_number": 99
    },
    {
     "cell_type": "heading",
     "level": 2,
     "metadata": {},
     "source": [
      "Eventos Externos - Extra\u00eddos por mim"
     ]
    },
    {
     "cell_type": "code",
     "collapsed": false,
     "input": [
      "my_events = collections.defaultdict(int,{\n",
      "## Detec\u00e7\u00f5es de fim de m\u00eas\n",
      "(18,1,2011):2, # Freezing Rain http://www.foxnews.com/weather/2011/01/18/northeast-hit-snow-sleet-freezing-rain/\n",
      "(26,1,2011):1, # Snow http://voices.washingtonpost.com/capitalweathergang/2011/01/a_snowstorm_montage_-_january.html\n",
      "(27,1,2011):1, # Snow http://voices.washingtonpost.com/capitalweathergang/2011/01/a_snowstorm_montage_-_january.html\n",
      "(16,4,2011):2, # Storm + Tornado Warning http://www.wjla.com/blogs/weather/2011/04/tornado-warning-in-d-c-region-during-powerful-saturday-storm-10312.html\n",
      "(27,4,2011):1, # Severe Weather http://www.erh.noaa.gov/lwx/events/svrwx_20110427_28/\n",
      "(28,4,2011):1, # Severe Weather http://www.erh.noaa.gov/lwx/events/svrwx_20110427_28/\n",
      "(14,5,2011):1, # Survive DC\n",
      "(17,5,2011):1, # Severe Weather http://www.erh.noaa.gov/lwx/events/svrwx_20110517/20110517_maugansville.php\n",
      "(8,9,2011):1, # Flood http://www.washingtonpost.com/blogs/capital-weather-gang/post/how-does-the-early-september-2011-east-coast-flood-event-rank-in-the-dc-area/2011/09/08/gIQApuQqEK_blog.html\n",
      "(9,9,2011):1, # Flood http://www.washingtonpost.com/blogs/capital-weather-gang/post/how-does-the-early-september-2011-east-coast-flood-event-rank-in-the-dc-area/2011/09/08/gIQApuQqEK_blog.html\n",
      "(19,10,2011):1, # Tornado Risk http://www.wjla.com/blogs/weather/2011/10/a-morning-rainbow-paints-the-germantown-skies-photo--13250.html\n",
      "(29,10,2011):1, # Snow http://www.erh.noaa.gov/lwx/events/snow_20111029/\n",
      "\n",
      "## Detec\u00e7\u00f5es de in\u00edcio de m\u00eas\n",
      "(10,3,2011):1, # Tornado + Flood http://www.wjla.com/blogs/weather/2011/03/highest-rainfall-totals-across-the-d-c-area-so-far-9380.html\n",
      "(15,4,2011):1, # Protest for Bahrain\n",
      "(4,7,2011):1, # Washington Fireworks + Independence Day Parade\n",
      "(7,9,2011):1, # Flash Flood http://www.wjla.com/blogs/weather/2011/09/watch-flash-floods-create-rushing-river-on-ellicott-city-road-12685.html\n",
      "(7,12,2011):1, # Record Rain Storm http://www.washingtonpost.com/blogs/capital-weather-gang/post/the-record-breaking-rain-storm-of-december-7-2011/2011/12/08/gIQAaHvGfO_blog.html\n",
      "(7,11,2012):1, # Snow http://www.wjla.com/blogs/weather/2012/11/d-c-weather-forecast-light-converstaional-snow-today-otherwise-windy-and-cold-17141.html\n",
      "\n",
      "## Copiando Holidays\n",
      "(25,11,2011):1, # Black Friday\n",
      "(24,12,2011):1, # Christmas\n",
      "(10,10,2011):1, # Columbus Day\n",
      "(29,5,2011):1, # Memorial Day\n",
      "(24,11,2011):1, # Thanksgiving\n",
      "(11,11,2011):1, # Veterans Day\n",
      "\n",
      "## Buscando eventos\n",
      "(22,5,2012):1, # Bike DC\n",
      "\n",
      "(1,1,2011):2, # New Year\n",
      "(2,1,2011):2, # New Year\n",
      "(30,12,2011):1, # New Year\n",
      "(31,12,2011):1, # New Year\n",
      "\n",
      "(1,1,2012):2, # New Year\n",
      "(2,1,2012):2, # New Year\n",
      "(30,12,2012):1, # New Year\n",
      "(31,12,2012):1, # New Year\n",
      "})"
     ],
     "language": "python",
     "metadata": {},
     "outputs": [],
     "prompt_number": 100
    },
    {
     "cell_type": "code",
     "collapsed": false,
     "input": [
      "events = my_events.copy()\n",
      "events.update(article_events)\n",
      "events.update(lesser_events)\n",
      "events"
     ],
     "language": "python",
     "metadata": {},
     "outputs": [
      {
       "metadata": {},
       "output_type": "pyout",
       "prompt_number": 101,
       "text": [
        "defaultdict(<type 'int'>, {(4, 7, 2011): 1, (10, 10, 2011): 1, (27, 5, 2012): 1, (11, 10, 2012): 1, (12, 10, 2012): 1, (10, 3, 2011): 1, (30, 12, 2011): 1, (14, 5, 2011): 1, (7, 12, 2011): 1, (9, 9, 2011): 1, (24, 12, 2011): 1, (15, 9, 2012): 1, (29, 1, 2012): 1, (31, 12, 2011): 1, (19, 10, 2011): 1, (19, 5, 2012): 1, (31, 12, 2012): 1, (25, 11, 2012): 1, (29, 5, 2011): 1, (7, 11, 2012): 1, (16, 4, 2011): 2, (27, 4, 2011): 1, (4, 7, 2012): 2, (18, 1, 2011): 2, (27, 1, 2011): 1, (12, 11, 2012): 1, (13, 5, 2012): 1, (29, 10, 2012): 2, (4, 12, 2012): 1, (23, 11, 2012): 1, (1, 6, 2012): 1, (18, 7, 2012): 1, (8, 9, 2011): 1, (22, 11, 2012): 1, (19, 10, 2012): 2, (2, 1, 2012): 2, (22, 5, 2012): 1, (24, 12, 2012): 1, (7, 10, 2012): 1, (11, 11, 2011): 1, (11, 2, 2012): 1, (17, 5, 2011): 1, (26, 1, 2011): 1, (21, 5, 2012): 1, (29, 9, 2012): 1, (16, 4, 2012): 1, (26, 5, 2012): 1, (2, 1, 2011): 2, (23, 3, 2012): 1, (7, 9, 2011): 1, (29, 10, 2011): 1, (7, 4, 2012): 1, (8, 10, 2012): 1, (1, 1, 2011): 2, (23, 1, 2012): 1, (25, 11, 2011): 1, (28, 4, 2011): 1, (30, 12, 2012): 1, (30, 10, 2012): 2, (18, 9, 2012): 1, (1, 1, 2012): 2, (24, 11, 2011): 1, (15, 4, 2011): 1})"
       ]
      }
     ],
     "prompt_number": 101
    },
    {
     "cell_type": "code",
     "collapsed": false,
     "input": [
      "train_data['event'] = train_data.apply(lambda row: events[(row['day'],row['month'],row['year'])], axis=1)"
     ],
     "language": "python",
     "metadata": {},
     "outputs": [],
     "prompt_number": 102
    },
    {
     "cell_type": "code",
     "collapsed": false,
     "input": [
      "test_data['event'] = test_data.apply(lambda row: events[(row['day'],row['month'],row['year'])], axis=1)"
     ],
     "language": "python",
     "metadata": {},
     "outputs": [],
     "prompt_number": 103
    },
    {
     "cell_type": "code",
     "collapsed": false,
     "input": [
      "train_data.to_csv(\"../datasets/super_train.csv\")"
     ],
     "language": "python",
     "metadata": {},
     "outputs": [],
     "prompt_number": 104
    },
    {
     "cell_type": "code",
     "collapsed": false,
     "input": [
      "test_data.to_csv(\"../datasets/super_test.csv\")"
     ],
     "language": "python",
     "metadata": {},
     "outputs": [],
     "prompt_number": 105
    }
   ],
   "metadata": {}
  }
 ]
}